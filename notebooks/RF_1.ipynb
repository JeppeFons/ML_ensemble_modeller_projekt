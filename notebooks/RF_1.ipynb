{
 "cells": [
  {
   "cell_type": "code",
   "execution_count": null,
   "id": "0f4a8b51",
   "metadata": {},
   "outputs": [],
   "source": [
    "import pandas as pd\n",
    "\n",
    "df = pd.read_csv(\"../data/raw_data/creditcard.csv\")\n",
    "print(df.head())"
   ]
  },
  {
   "cell_type": "code",
   "execution_count": null,
   "id": "71233065",
   "metadata": {},
   "outputs": [],
   "source": [
    "import pandas as pd\n",
    "from sklearn.model_selection import train_test_split\n",
    "from sklearn.ensemble import RandomForestClassifier\n",
    "from sklearn.metrics import classification_report, confusion_matrix, roc_auc_score\n",
    "import mlflow\n",
    "import mlflow.sklearn\n",
    "\n",
    "\n",
    "# MLflow setup\n",
    "\n",
    "# MLflow setup (lokal tracking server)\n",
    "# mlflow.set_tracking_uri(\"http://localhost:5000\")  # dette er lokal tracking server deployment\n",
    "# MLflow setup (Kubernetes deployment)\n",
    "mlflow.set_tracking_uri(\"http://host.docker.internal:5000\") # dette er kubernetes-deployment \n",
    "mlflow.set_experiment(\"CreditCard_Fraud_RF\")\n",
    "\n",
    "# mlflow server --backend-store-uri sqlite:///mlflow.db --default-artifact-root ./mlruns --host 0.0.0.0 --port 5000 # start serveren til docker\n",
    "\n",
    "\n",
    "# docker build -t fraud-model # til start af lokal host\n",
    "#docker run fraud-model\n",
    "\n",
    "with mlflow.start_run():\n",
    "    # 1. Indlæs data\n",
    "    df = pd.read_csv(\"../data/raw_data/creditcard.csv\")  # relative path til Docker\n",
    "    X = df.drop(\"Class\", axis=1)\n",
    "    y = df[\"Class\"]\n",
    "\n",
    "    # 2. Train/test split\n",
    "    X_train, X_test, y_train, y_test = train_test_split(\n",
    "        X, y, test_size=0.3, stratify=y, random_state=42\n",
    "    )\n",
    "\n",
    "    # 3. Random Forest-model\n",
    "    rf = RandomForestClassifier(\n",
    "        n_estimators=100,\n",
    "        class_weight='balanced',\n",
    "        random_state=42\n",
    "    )\n",
    "    rf.fit(X_train, y_train)\n",
    "    y_pred_rf = rf.predict(X_test)\n",
    "\n",
    "    # 4. Eval\n",
    "    auc = roc_auc_score(y_test, rf.predict_proba(X_test)[:, 1])\n",
    "    print(\"AUC RF:\", auc)\n",
    "\n",
    "    # 5. MLflow logning\n",
    "    mlflow.log_param(\"n_estimators\", 100)\n",
    "    mlflow.log_param(\"class_weight\", \"balanced\")\n",
    "    mlflow.log_metric(\"roc_auc\", auc)\n",
    "\n",
    "    # Log model\n",
    "    mlflow.sklearn.log_model(rf, \"model\")"
   ]
  }
 ],
 "metadata": {
  "kernelspec": {
   "display_name": "portfolioJFR",
   "language": "python",
   "name": "python3"
  },
  "language_info": {
   "name": "python",
   "version": "3.10.13"
  }
 },
 "nbformat": 4,
 "nbformat_minor": 5
}
